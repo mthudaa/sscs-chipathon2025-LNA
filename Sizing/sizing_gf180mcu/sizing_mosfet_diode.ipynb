{
 "cells": [
  {
   "cell_type": "markdown",
   "metadata": {},
   "source": [
    "# Sizing for MOSFET Diode Example \n",
    "\n",
    "**Copyright 2024 Harald Pretl**\n",
    "\n",
    "Licensed under the Apache License, Version 2.0 (the \"License\");\n",
    "you may not use this file except in compliance with the License.\n",
    "You may obtain a copy of the License at\n",
    "http://www.apache.org/licenses/LICENSE-2.0"
   ]
  },
  {
   "cell_type": "code",
   "execution_count": 1,
   "metadata": {},
   "outputs": [],
   "source": [
    "# read table data\n",
    "from pygmid import Lookup as lk\n",
    "import numpy as np\n",
    "lv_pmos = lk('../backup/gf180mcu_pmos_3v3.mat')\n",
    "lv_nmos = lk('../backup/gf180mcu_nmos_3v3.mat')\n",
    "# list of parameters: VGS, VDS, VSB, L, W, NFING, ID, VT, GM, GMB, GDS, CGG, CGB, CGD, CGS, CDD, CSS, STH, SFL\n",
    "# if not specified, minimum L, VDS=max(vgs)/2=0.9 and VSB=0 are used "
   ]
  },
  {
   "cell_type": "code",
   "execution_count": 2,
   "metadata": {},
   "outputs": [],
   "source": [
    "# define the given values\n",
    "id_spec = 20e-6\n",
    "gm_id_spec = 10\n",
    "L_spec = 0.13"
   ]
  },
  {
   "cell_type": "code",
   "execution_count": 3,
   "metadata": {},
   "outputs": [
    {
     "name": "stdout",
     "output_type": "stream",
     "text": [
      "gm = 0.2 mS\n"
     ]
    }
   ],
   "source": [
    "# we can calculate the gm directly\n",
    "gm = gm_id_spec * id_spec\n",
    "print('gm =', round(gm/1e-3, 3), 'mS')"
   ]
  },
  {
   "cell_type": "code",
   "execution_count": 4,
   "metadata": {},
   "outputs": [],
   "source": [
    "vgs = lv_nmos.look_upVGS(GM_ID=gm_id_spec, L=L_spec, VDS=1.65, VSB=0.0)\n",
    "vgs = lv_nmos.look_upVGS(GM_ID=gm_id_spec, L=L_spec, VDS=vgs, VSB=0.0)"
   ]
  },
  {
   "cell_type": "code",
   "execution_count": 5,
   "metadata": {},
   "outputs": [
    {
     "name": "stdout",
     "output_type": "stream",
     "text": [
      "gds = -4.47 uS\n"
     ]
    }
   ],
   "source": [
    "# the gm_gds we look up and calculate gds from it\n",
    "gm_gds = lv_nmos.lookup('GM_GDS', GM_ID=gm_id_spec, L=L_spec, VDS=vgs, VSB=0)\n",
    "gds = gm / gm_gds\n",
    "print('gds =', round(gds/1e-6, 2), 'uS')"
   ]
  },
  {
   "cell_type": "code",
   "execution_count": 6,
   "metadata": {},
   "outputs": [
    {
     "name": "stdout",
     "output_type": "stream",
     "text": [
      "Cgg = 3.6 fF\n",
      "f_T = 8.8 GHz\n"
     ]
    }
   ],
   "source": [
    "# find f_T (which is not stored directly, but we can find the gm to gate capacitance ratio)\n",
    "gm_cgg = lv_nmos.lookup('GM_CGG', GM_ID=gm_id_spec, L=L_spec, VDS=vgs, VSB=0)\n",
    "f_T = gm_cgg / (2*np.pi)\n",
    "print('Cgg =', round(gm/gm_cgg/1e-15, 1), 'fF')\n",
    "print('f_T =', round(f_T/1e9, 1), 'GHz')\n"
   ]
  },
  {
   "cell_type": "code",
   "execution_count": 7,
   "metadata": {},
   "outputs": [
    {
     "name": "stdout",
     "output_type": "stream",
     "text": [
      "W = 4.77 um, rounded W = 5.0 um\n"
     ]
    }
   ],
   "source": [
    "# find the W of the diode transistor\n",
    "id_w = lv_nmos.lookup('ID_W', GM_ID=gm_id_spec, L=L_spec, VDS=vgs, VSB=0)\n",
    "w = id_spec / id_w\n",
    "print('W =', round(w, 2), 'um, rounded W =', round(w*2)/2, 'um')"
   ]
  },
  {
   "cell_type": "code",
   "execution_count": 8,
   "metadata": {},
   "outputs": [
    {
     "name": "stdout",
     "output_type": "stream",
     "text": [
      "V_GS = 0.677 V\n",
      "gamma = 0.0\n",
      "f_co = nan MHz\n"
     ]
    },
    {
     "name": "stderr",
     "output_type": "stream",
     "text": [
      "/tmp/ipykernel_1282/607909554.py:8: RuntimeWarning: invalid value encountered in scalar divide\n",
      "  f_co = sfl/sth\n"
     ]
    }
   ],
   "source": [
    "# let's now find the other interesting values\n",
    "# lookup normalized noise power spectral densisties and denormalize with the gm from above\n",
    "sth = lv_nmos.lookup('STH_GM', VGS=vgs, L=L_spec, VDS=vgs, VSB=0)*gm\n",
    "sfl = lv_nmos.lookup('SFL_GM', VGS=vgs, L=L_spec, VDS=vgs, VSB=0)*gm\n",
    "\n",
    "gamma = sth/(4*1.38e-23*300*gm)\n",
    "\n",
    "f_co = sfl/sth\n",
    "print('V_GS =', round(float(vgs), 3), 'V')\n",
    "print('gamma =', round(gamma, 2))\n",
    "print('f_co =', round(f_co/1e6, 2), 'MHz')"
   ]
  },
  {
   "cell_type": "code",
   "execution_count": 9,
   "metadata": {},
   "outputs": [
    {
     "data": {
      "text/plain": [
       "0.0"
      ]
     },
     "execution_count": 9,
     "metadata": {},
     "output_type": "execute_result"
    }
   ],
   "source": [
    "sfl"
   ]
  },
  {
   "cell_type": "code",
   "execution_count": null,
   "metadata": {},
   "outputs": [],
   "source": []
  }
 ],
 "metadata": {
  "kernelspec": {
   "display_name": "Python 3 (ipykernel)",
   "language": "python",
   "name": "python3"
  },
  "language_info": {
   "codemirror_mode": {
    "name": "ipython",
    "version": 3
   },
   "file_extension": ".py",
   "mimetype": "text/x-python",
   "name": "python",
   "nbconvert_exporter": "python",
   "pygments_lexer": "ipython3",
   "version": "3.10.18"
  }
 },
 "nbformat": 4,
 "nbformat_minor": 2
}
