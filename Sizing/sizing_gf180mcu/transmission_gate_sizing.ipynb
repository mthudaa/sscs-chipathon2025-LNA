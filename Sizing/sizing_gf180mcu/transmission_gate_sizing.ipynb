{
 "cells": [
  {
   "cell_type": "markdown",
   "id": "3c0b8767",
   "metadata": {},
   "source": [
    "# Sizing Script Transmission Gate "
   ]
  },
  {
   "cell_type": "code",
   "execution_count": 9,
   "id": "5450aae1",
   "metadata": {},
   "outputs": [],
   "source": [
    "from pygmid import Lookup as lk\n",
    "import numpy as np\n",
    "pmos = lk('../backup/gf180mcu_pmos_06v0.mat')\n",
    "nmos = lk('../backup/gf180mcu_nmos_06v0.mat')"
   ]
  },
  {
   "cell_type": "markdown",
   "id": "d50da2af",
   "metadata": {},
   "source": [
    "## Spesification list"
   ]
  },
  {
   "cell_type": "code",
   "execution_count": 10,
   "id": "c3826e3c",
   "metadata": {},
   "outputs": [],
   "source": [
    "# Transmission gate specification\n",
    "VDD = 2.5\n",
    "VSS = 0.0\n",
    "VGS = VDD - VSS\n",
    "VDS = VDD - VSS\n",
    "VSB = 0.0\n",
    "RON = 100 # Ohm\n",
    "M = 4 # Multiplication factor\n",
    "I = 2e-3 # Target current in mA"
   ]
  },
  {
   "cell_type": "markdown",
   "id": "e94262e6",
   "metadata": {},
   "source": [
    "## Sizing NMOS side"
   ]
  },
  {
   "cell_type": "code",
   "execution_count": 11,
   "id": "5ee00bdf",
   "metadata": {},
   "outputs": [
    {
     "name": "stdout",
     "output_type": "stream",
     "text": [
      "NMOS width: 3.661930569796397 um, round to 3.7 um\n"
     ]
    }
   ],
   "source": [
    "# Find the gm/ID target for NMOS\n",
    "gds_target = 1 / RON  # Target GDS for NMOS\n",
    "nmos_gm_id_target = nmos.lookup('GM_ID', GDS=gds_target, VGS=VGS, VDS=VDD, VSB=VSB)\n",
    "# NMOS current density\n",
    "nmos_id_density_target = nmos.lookup('ID_W', GM_ID=nmos_gm_id_target)\n",
    "# NMOS width\n",
    "nmos_width = (I / nmos_id_density_target) / M\n",
    "print(f'NMOS width: {nmos_width} um, round to {np.round(nmos_width, 1)} um')"
   ]
  },
  {
   "cell_type": "markdown",
   "id": "001bda86",
   "metadata": {},
   "source": [
    "## Sizing PMOS side"
   ]
  },
  {
   "cell_type": "code",
   "execution_count": 12,
   "id": "36e1f2cb",
   "metadata": {},
   "outputs": [
    {
     "name": "stdout",
     "output_type": "stream",
     "text": [
      "PMOS width: 4.936751807013126 um, round to 4.9 um\n"
     ]
    }
   ],
   "source": [
    "# Find the gm/ID target for PMOS\n",
    "pmos_gm_id_target = pmos.lookup('GM_ID', GDS=gds_target, VGS=VGS, VDS=VDD, VSB=VSB)\n",
    "# NMOS current density\n",
    "pmos_id_density_target = nmos.lookup('ID_W', GM_ID=pmos_gm_id_target)\n",
    "# NMOS width\n",
    "pmos_width = (I / pmos_id_density_target) / M\n",
    "print(f'PMOS width: {pmos_width} um, round to {np.round(pmos_width, 1)} um')"
   ]
  },
  {
   "cell_type": "markdown",
   "id": "32583c61",
   "metadata": {},
   "source": [
    "## Conclusion of Sizing"
   ]
  },
  {
   "cell_type": "code",
   "execution_count": 13,
   "id": "659996e2",
   "metadata": {},
   "outputs": [
    {
     "name": "stdout",
     "output_type": "stream",
     "text": [
      "## Transmission Gate Design Summary\n",
      "Target RON: 100 Ohm\n",
      "Target current (I): 2.00 mA\n",
      "Multiplication factor (M): 4\n",
      "NMOS width: 3.662 um (rounded up: 3.7 um)\n",
      "PMOS width: 4.937 um (rounded up: 5.0 um)\n"
     ]
    }
   ],
   "source": [
    "print(\"## Transmission Gate Design Summary\")\n",
    "print(f\"Target RON: {RON} Ohm\")\n",
    "print(f\"Target current (I): {I*1e3:.2f} mA\")\n",
    "print(f\"Multiplication factor (M): {M}\")\n",
    "print(f\"NMOS width: {nmos_width:.3f} um (rounded up: {np.ceil(nmos_width * 10) / 10:.1f} um)\")\n",
    "print(f\"PMOS width: {pmos_width:.3f} um (rounded up: {np.ceil(pmos_width * 10) / 10:.1f} um)\")"
   ]
  }
 ],
 "metadata": {
  "kernelspec": {
   "display_name": "Python 3",
   "language": "python",
   "name": "python3"
  },
  "language_info": {
   "codemirror_mode": {
    "name": "ipython",
    "version": 3
   },
   "file_extension": ".py",
   "mimetype": "text/x-python",
   "name": "python",
   "nbconvert_exporter": "python",
   "pygments_lexer": "ipython3",
   "version": "3.12.3"
  }
 },
 "nbformat": 4,
 "nbformat_minor": 5
}
