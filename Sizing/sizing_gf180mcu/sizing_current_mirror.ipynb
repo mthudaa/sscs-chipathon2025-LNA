{
 "cells": [
  {
   "cell_type": "markdown",
   "metadata": {},
   "source": [
    "# Sizing for Improved Current Mirror \n",
    "\n",
    "**Copyright 2024 Harald Pretl**\n",
    "\n",
    "Licensed under the Apache License, Version 2.0 (the \"License\");\n",
    "you may not use this file except in compliance with the License.\n",
    "You may obtain a copy of the License at\n",
    "http://www.apache.org/licenses/LICENSE-2.0"
   ]
  },
  {
   "cell_type": "code",
   "execution_count": 1,
   "metadata": {},
   "outputs": [
    {
     "name": "stdout",
     "output_type": "stream",
     "text": [
      "Defaulting to user installation because normal site-packages is not writeable\n",
      "Requirement already satisfied: pygmid in /usr/local/lib/python3.12/dist-packages (1.2.12)\n",
      "Requirement already satisfied: numpy in /usr/local/lib/python3.12/dist-packages (from pygmid) (2.3.0)\n",
      "Requirement already satisfied: scipy in /usr/local/lib/python3.12/dist-packages (from pygmid) (1.15.3)\n",
      "Requirement already satisfied: matplotlib in /usr/local/lib/python3.12/dist-packages (from pygmid) (3.10.3)\n",
      "Requirement already satisfied: psf-utils in /usr/local/lib/python3.12/dist-packages (from pygmid) (1.9)\n",
      "Requirement already satisfied: tqdm in /usr/local/lib/python3.12/dist-packages (from pygmid) (4.67.1)\n",
      "Requirement already satisfied: contourpy>=1.0.1 in /usr/local/lib/python3.12/dist-packages (from matplotlib->pygmid) (1.3.2)\n",
      "Requirement already satisfied: cycler>=0.10 in /usr/local/lib/python3.12/dist-packages (from matplotlib->pygmid) (0.12.1)\n",
      "Requirement already satisfied: fonttools>=4.22.0 in /usr/local/lib/python3.12/dist-packages (from matplotlib->pygmid) (4.58.4)\n",
      "Requirement already satisfied: kiwisolver>=1.3.1 in /usr/local/lib/python3.12/dist-packages (from matplotlib->pygmid) (1.4.8)\n",
      "Requirement already satisfied: packaging>=20.0 in /usr/local/lib/python3.12/dist-packages (from matplotlib->pygmid) (25.0)\n",
      "Requirement already satisfied: pillow>=8 in /usr/local/lib/python3.12/dist-packages (from matplotlib->pygmid) (11.2.1)\n",
      "Requirement already satisfied: pyparsing>=2.3.1 in /usr/local/lib/python3.12/dist-packages (from matplotlib->pygmid) (3.2.3)\n",
      "Requirement already satisfied: python-dateutil>=2.7 in /usr/local/lib/python3.12/dist-packages (from matplotlib->pygmid) (2.9.0.post0)\n",
      "Requirement already satisfied: six>=1.5 in /usr/local/lib/python3.12/dist-packages (from python-dateutil>=2.7->matplotlib->pygmid) (1.17.0)\n",
      "Requirement already satisfied: docopt in /usr/local/lib/python3.12/dist-packages (from psf-utils->pygmid) (0.6.2)\n",
      "Requirement already satisfied: inform in /usr/local/lib/python3.12/dist-packages (from psf-utils->pygmid) (1.34)\n",
      "Requirement already satisfied: ply==3.10 in /usr/local/lib/python3.12/dist-packages (from psf-utils->pygmid) (3.10)\n",
      "Requirement already satisfied: quantiphy in /usr/local/lib/python3.12/dist-packages (from psf-utils->pygmid) (2.20)\n",
      "Requirement already satisfied: arrow in /usr/local/lib/python3.12/dist-packages (from inform->psf-utils->pygmid) (1.3.0)\n",
      "Requirement already satisfied: types-python-dateutil>=2.8.10 in /usr/local/lib/python3.12/dist-packages (from arrow->inform->psf-utils->pygmid) (2.9.0.20250516)\n"
     ]
    }
   ],
   "source": [
    "!pip install pygmid"
   ]
  },
  {
   "cell_type": "code",
   "execution_count": 2,
   "metadata": {},
   "outputs": [],
   "source": [
    "# read table data\n",
    "from pygmid import Lookup as lk\n",
    "import numpy as np\n",
    "lv_pmos = lk('../backup/gf180mcu_pmos_06v0.mat')\n",
    "lv_nmos = lk('../backup/gf180mcu_nmos_06v0.mat')\n",
    "# list of parameters: VGS, VDS, VSB, L, W, NFING, ID, VT, GM, GMB, GDS, CGG, CGB, CGD, CGS, CDD, CSS, STH, SFL\n",
    "# if not specified, minimum L, VDS=max(vgs)/2=0.9 and VSB=0 are used "
   ]
  },
  {
   "cell_type": "code",
   "execution_count": 3,
   "metadata": {},
   "outputs": [],
   "source": [
    "# define the given values\n",
    "id_spec = 20e-6\n",
    "gm_id_spec = 5\n",
    "L_spec = 5"
   ]
  },
  {
   "cell_type": "code",
   "execution_count": 4,
   "metadata": {},
   "outputs": [
    {
     "name": "stdout",
     "output_type": "stream",
     "text": [
      "gm = 0.1 mS\n"
     ]
    }
   ],
   "source": [
    "# we can calculate the gm directly\n",
    "gm = gm_id_spec * id_spec\n",
    "print('gm =', round(gm/1e-3, 3), 'mS')"
   ]
  },
  {
   "cell_type": "code",
   "execution_count": 5,
   "metadata": {},
   "outputs": [],
   "source": [
    "vgs = lv_nmos.look_upVGS(GM_ID=gm_id_spec, L=L_spec, VDS=2.5, VSB=0.0)\n",
    "vgs = lv_nmos.look_upVGS(GM_ID=gm_id_spec, L=L_spec, VDS=vgs, VSB=0.0)"
   ]
  },
  {
   "cell_type": "code",
   "execution_count": 6,
   "metadata": {},
   "outputs": [
    {
     "name": "stdout",
     "output_type": "stream",
     "text": [
      "gds = 0.285 uS\n"
     ]
    }
   ],
   "source": [
    "# the gm_gds we look up and calculate gds from it\n",
    "gm_gds = lv_nmos.lookup('GM_GDS', GM_ID=gm_id_spec, L=L_spec, VDS=vgs, VSB=0)\n",
    "gds = gm / gm_gds\n",
    "print('gds =', round(gds/1e-6, 3), 'uS')"
   ]
  },
  {
   "cell_type": "code",
   "execution_count": 7,
   "metadata": {},
   "outputs": [
    {
     "name": "stdout",
     "output_type": "stream",
     "text": [
      "Cgg = 125.7 fF\n",
      "f_T = 126.62 MHz\n"
     ]
    }
   ],
   "source": [
    "# find f_T (which is not stored directly, but we can find the gm to gate capacitance ratio)\n",
    "gm_cgg = lv_nmos.lookup('GM_CGG', GM_ID=gm_id_spec, L=L_spec, VDS=vgs, VSB=0)\n",
    "f_T = gm_cgg / (2*np.pi)\n",
    "print('Cgg =', round(gm/gm_cgg/1e-15, 1), 'fF')\n",
    "print('f_T =', round(f_T/1e6, 2), 'MHz')\n"
   ]
  },
  {
   "cell_type": "code",
   "execution_count": 11,
   "metadata": {},
   "outputs": [
    {
     "name": "stdout",
     "output_type": "stream",
     "text": [
      "W = 15.64 um, rounded W = 15.5 um\n",
      "V_GS = 1.056 V\n"
     ]
    }
   ],
   "source": [
    "# find the W of the diode transistor\n",
    "id_w = lv_nmos.lookup('ID_W', GM_ID=gm_id_spec, L=L_spec, VDS=vgs, VSB=0)\n",
    "w = id_spec / id_w\n",
    "print('W =', round(w, 2), 'um, rounded W =', round(w*2)/2, 'um')\n",
    "print('V_GS =', round(float(vgs), 3), 'V')"
   ]
  }
 ],
 "metadata": {
  "kernelspec": {
   "display_name": "Python 3",
   "language": "python",
   "name": "python3"
  },
  "language_info": {
   "codemirror_mode": {
    "name": "ipython",
    "version": 3
   },
   "file_extension": ".py",
   "mimetype": "text/x-python",
   "name": "python",
   "nbconvert_exporter": "python",
   "pygments_lexer": "ipython3",
   "version": "3.12.3"
  }
 },
 "nbformat": 4,
 "nbformat_minor": 2
}
