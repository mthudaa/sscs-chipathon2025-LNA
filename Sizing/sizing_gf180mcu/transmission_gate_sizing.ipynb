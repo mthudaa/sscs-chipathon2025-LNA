{
 "cells": [
  {
   "cell_type": "markdown",
   "id": "3c0b8767",
   "metadata": {},
   "source": [
    "# Sizing Script Transmission Gate "
   ]
  },
  {
   "cell_type": "code",
   "execution_count": 14,
   "id": "fbfa65c6",
   "metadata": {},
   "outputs": [
    {
     "name": "stdout",
     "output_type": "stream",
     "text": [
      "Defaulting to user installation because normal site-packages is not writeable\n",
      "Requirement already satisfied: pygmid in /usr/local/lib/python3.12/dist-packages (1.2.12)\n",
      "Requirement already satisfied: numpy in /usr/local/lib/python3.12/dist-packages (from pygmid) (2.3.0)\n",
      "Requirement already satisfied: scipy in /usr/local/lib/python3.12/dist-packages (from pygmid) (1.15.3)\n",
      "Requirement already satisfied: matplotlib in /usr/local/lib/python3.12/dist-packages (from pygmid) (3.10.3)\n",
      "Requirement already satisfied: psf-utils in /usr/local/lib/python3.12/dist-packages (from pygmid) (1.9)\n",
      "Requirement already satisfied: tqdm in /usr/local/lib/python3.12/dist-packages (from pygmid) (4.67.1)\n",
      "Requirement already satisfied: contourpy>=1.0.1 in /usr/local/lib/python3.12/dist-packages (from matplotlib->pygmid) (1.3.2)\n",
      "Requirement already satisfied: cycler>=0.10 in /usr/local/lib/python3.12/dist-packages (from matplotlib->pygmid) (0.12.1)\n",
      "Requirement already satisfied: fonttools>=4.22.0 in /usr/local/lib/python3.12/dist-packages (from matplotlib->pygmid) (4.58.4)\n",
      "Requirement already satisfied: kiwisolver>=1.3.1 in /usr/local/lib/python3.12/dist-packages (from matplotlib->pygmid) (1.4.8)\n",
      "Requirement already satisfied: packaging>=20.0 in /usr/local/lib/python3.12/dist-packages (from matplotlib->pygmid) (25.0)\n",
      "Requirement already satisfied: pillow>=8 in /usr/local/lib/python3.12/dist-packages (from matplotlib->pygmid) (11.2.1)\n",
      "Requirement already satisfied: pyparsing>=2.3.1 in /usr/local/lib/python3.12/dist-packages (from matplotlib->pygmid) (3.2.3)\n",
      "Requirement already satisfied: python-dateutil>=2.7 in /usr/local/lib/python3.12/dist-packages (from matplotlib->pygmid) (2.9.0.post0)\n",
      "Requirement already satisfied: six>=1.5 in /usr/local/lib/python3.12/dist-packages (from python-dateutil>=2.7->matplotlib->pygmid) (1.17.0)\n",
      "Requirement already satisfied: docopt in /usr/local/lib/python3.12/dist-packages (from psf-utils->pygmid) (0.6.2)\n",
      "Requirement already satisfied: inform in /usr/local/lib/python3.12/dist-packages (from psf-utils->pygmid) (1.34)\n",
      "Requirement already satisfied: ply==3.10 in /usr/local/lib/python3.12/dist-packages (from psf-utils->pygmid) (3.10)\n",
      "Requirement already satisfied: quantiphy in /usr/local/lib/python3.12/dist-packages (from psf-utils->pygmid) (2.20)\n",
      "Requirement already satisfied: arrow in /usr/local/lib/python3.12/dist-packages (from inform->psf-utils->pygmid) (1.3.0)\n",
      "Requirement already satisfied: types-python-dateutil>=2.8.10 in /usr/local/lib/python3.12/dist-packages (from arrow->inform->psf-utils->pygmid) (2.9.0.20250516)\n"
     ]
    }
   ],
   "source": [
    "!pip install pygmid"
   ]
  },
  {
   "cell_type": "code",
   "execution_count": 9,
   "id": "5450aae1",
   "metadata": {},
   "outputs": [],
   "source": [
    "from pygmid import Lookup as lk\n",
    "import numpy as np\n",
    "pmos = lk('../backup/gf180mcu_pmos_06v0.mat')\n",
    "nmos = lk('../backup/gf180mcu_nmos_06v0.mat')"
   ]
  },
  {
   "cell_type": "markdown",
   "id": "d50da2af",
   "metadata": {},
   "source": [
    "## Spesification list"
   ]
  },
  {
   "cell_type": "code",
   "execution_count": 10,
   "id": "c3826e3c",
   "metadata": {},
   "outputs": [],
   "source": [
    "# Transmission gate specification\n",
    "VDD = 2.5\n",
    "VSS = 0.0\n",
    "VGS = VDD - VSS\n",
    "VDS = VDD - VSS\n",
    "VSB = 0.0\n",
    "RON = 100 # Ohm\n",
    "M = 4 # Multiplication factor\n",
    "I = 2e-3 # Target current in mA"
   ]
  },
  {
   "cell_type": "markdown",
   "id": "e94262e6",
   "metadata": {},
   "source": [
    "## Sizing NMOS side"
   ]
  },
  {
   "cell_type": "code",
   "execution_count": 11,
   "id": "5ee00bdf",
   "metadata": {},
   "outputs": [
    {
     "name": "stdout",
     "output_type": "stream",
     "text": [
      "NMOS width: 3.661930569796397 um, round to 3.7 um\n"
     ]
    }
   ],
   "source": [
    "# Find the gm/ID target for NMOS\n",
    "gds_target = 1 / RON  # Target GDS for NMOS\n",
    "nmos_gm_id_target = nmos.lookup('GM_ID', GDS=gds_target, VGS=VGS, VDS=VDD, VSB=VSB)\n",
    "# NMOS current density\n",
    "nmos_id_density_target = nmos.lookup('ID_W', GM_ID=nmos_gm_id_target)\n",
    "# NMOS width\n",
    "nmos_width = (I / nmos_id_density_target) / M\n",
    "print(f'NMOS width: {nmos_width} um, round to {np.round(nmos_width, 1)} um')"
   ]
  },
  {
   "cell_type": "markdown",
   "id": "001bda86",
   "metadata": {},
   "source": [
    "## Sizing PMOS side"
   ]
  },
  {
   "cell_type": "code",
   "execution_count": 12,
   "id": "36e1f2cb",
   "metadata": {},
   "outputs": [
    {
     "name": "stdout",
     "output_type": "stream",
     "text": [
      "PMOS width: 4.936751807013126 um, round to 4.9 um\n"
     ]
    }
   ],
   "source": [
    "# Find the gm/ID target for PMOS\n",
    "pmos_gm_id_target = pmos.lookup('GM_ID', GDS=gds_target, VGS=VGS, VDS=VDD, VSB=VSB)\n",
    "# NMOS current density\n",
    "pmos_id_density_target = nmos.lookup('ID_W', GM_ID=pmos_gm_id_target)\n",
    "# NMOS width\n",
    "pmos_width = (I / pmos_id_density_target) / M\n",
    "print(f'PMOS width: {pmos_width} um, round to {np.round(pmos_width, 1)} um')"
   ]
  },
  {
   "cell_type": "markdown",
   "id": "32583c61",
   "metadata": {},
   "source": [
    "## Conclusion of Sizing"
   ]
  },
  {
   "cell_type": "code",
   "execution_count": 13,
   "id": "659996e2",
   "metadata": {},
   "outputs": [
    {
     "name": "stdout",
     "output_type": "stream",
     "text": [
      "## Transmission Gate Design Summary\n",
      "Target RON: 100 Ohm\n",
      "Target current (I): 2.00 mA\n",
      "Multiplication factor (M): 4\n",
      "NMOS width: 3.662 um (rounded up: 3.7 um)\n",
      "PMOS width: 4.937 um (rounded up: 5.0 um)\n"
     ]
    }
   ],
   "source": [
    "print(\"## Transmission Gate Design Summary\")\n",
    "print(f\"Target RON: {RON} Ohm\")\n",
    "print(f\"Target current (I): {I*1e3:.2f} mA\")\n",
    "print(f\"Multiplication factor (M): {M}\")\n",
    "print(f\"NMOS width: {nmos_width:.3f} um (rounded up: {np.ceil(nmos_width * 10) / 10:.1f} um)\")\n",
    "print(f\"PMOS width: {pmos_width:.3f} um (rounded up: {np.ceil(pmos_width * 10) / 10:.1f} um)\")"
   ]
  }
 ],
 "metadata": {
  "kernelspec": {
   "display_name": "Python 3",
   "language": "python",
   "name": "python3"
  },
  "language_info": {
   "codemirror_mode": {
    "name": "ipython",
    "version": 3
   },
   "file_extension": ".py",
   "mimetype": "text/x-python",
   "name": "python",
   "nbconvert_exporter": "python",
   "pygments_lexer": "ipython3",
   "version": "3.12.3"
  }
 },
 "nbformat": 4,
 "nbformat_minor": 5
}
